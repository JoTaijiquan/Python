{
  "nbformat": 4,
  "nbformat_minor": 0,
  "metadata": {
    "colab": {
      "name": "Python101.ipynb",
      "provenance": [],
      "collapsed_sections": [],
      "authorship_tag": "ABX9TyMW/TJ5L8NTAt/cF4pCMrbE",
      "include_colab_link": true
    },
    "kernelspec": {
      "name": "python3",
      "display_name": "Python 3"
    }
  },
  "cells": [
    {
      "cell_type": "markdown",
      "metadata": {
        "id": "view-in-github",
        "colab_type": "text"
      },
      "source": [
        "<a href=\"https://colab.research.google.com/github/JoTaijiquan/Python/blob/master/Python101.ipynb\" target=\"_parent\"><img src=\"https://colab.research.google.com/assets/colab-badge.svg\" alt=\"Open In Colab\"/></a>"
      ]
    },
    {
      "cell_type": "markdown",
      "metadata": {
        "id": "HoYK_k68hb5p",
        "colab_type": "text"
      },
      "source": [
        "## **Python 101**"
      ]
    },
    {
      "cell_type": "code",
      "metadata": {
        "id": "PvPCpyhGmncg",
        "colab_type": "code",
        "outputId": "c89971fb-7239-4a84-b4b4-3f6a1ff4fe5d",
        "colab": {
          "base_uri": "https://localhost:8080/",
          "height": 34
        }
      },
      "source": [
        "#Example 1-1-1\n",
        "\n",
        "print (\"hello, world!\")"
      ],
      "execution_count": 3,
      "outputs": [
        {
          "output_type": "stream",
          "text": [
            "hello, world!\n"
          ],
          "name": "stdout"
        }
      ]
    },
    {
      "cell_type": "code",
      "metadata": {
        "id": "7mlNEI2Yf7o-",
        "colab_type": "code",
        "colab": {
          "base_uri": "https://localhost:8080/",
          "height": 34
        },
        "outputId": "40d1317c-e6f6-4016-bb24-e4ab04c08ca2"
      },
      "source": [
        "#Example 1-1-2\n",
        "\n",
        "print (\"สวัสดีชาวโลก\")"
      ],
      "execution_count": 5,
      "outputs": [
        {
          "output_type": "stream",
          "text": [
            "สวัสดีชาวโลก\n"
          ],
          "name": "stdout"
        }
      ]
    },
    {
      "cell_type": "code",
      "metadata": {
        "id": "fR-eel6ygylv",
        "colab_type": "code",
        "colab": {
          "base_uri": "https://localhost:8080/",
          "height": 34
        },
        "outputId": "d8a9908e-c106-4955-9944-9dfd2f5557e9"
      },
      "source": [
        "#Example 1-1-3\n",
        "\n",
        "def MyFirstFunction():\n",
        "    print (\"มาเขียนโปรแกรมภาษา Python อย่างสนุกสนานกันเถอะ\")\n",
        "\n",
        "if __name__ == \"__main__\":\n",
        "    MyFirstFunction()\n"
      ],
      "execution_count": 6,
      "outputs": [
        {
          "output_type": "stream",
          "text": [
            "มาเขียนโปรแกรมภาษา Python อย่างสนุกสนานกันเถอะ\n"
          ],
          "name": "stdout"
        }
      ]
    },
    {
      "cell_type": "code",
      "metadata": {
        "id": "T0lyVg5_hs59",
        "colab_type": "code",
        "colab": {
          "base_uri": "https://localhost:8080/",
          "height": 102
        },
        "outputId": "1ac5a460-a3ff-4558-8214-06f841282a90"
      },
      "source": [
        "#Example 1-1-4\n",
        "\n",
        "'บันทึกสนุกๆ'\n",
        "def MySecondFunction():\n",
        "    'เขียนเล่น'\n",
        "    print (\"ขีดๆ\",\"เขียนๆ\",\"เรียนๆ\",\"เล่นๆ\")\n",
        "\n",
        "if __name__ == \"__main__\":\n",
        "    MySecondFunction()\n",
        "    print (\"Program Name is\",__name__)\n",
        "    print (\"Program Document is\",__doc__)\n",
        "    print (\"Function Name is\", MySecondFunction.__name__)\n",
        "    print (\"Function Document is\", MySecondFunction.__doc__)"
      ],
      "execution_count": 7,
      "outputs": [
        {
          "output_type": "stream",
          "text": [
            "ขีดๆ เขียนๆ เรียนๆ เล่นๆ\n",
            "Program Name is __main__\n",
            "Program Document is บันทึกสนุกๆ\n",
            "Function Name is MySecondFunction\n",
            "Function Document is เขียนเล่น\n"
          ],
          "name": "stdout"
        }
      ]
    }
  ]
}