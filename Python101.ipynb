{
  "nbformat": 4,
  "nbformat_minor": 0,
  "metadata": {
    "colab": {
      "name": "Python101.ipynb",
      "provenance": [],
      "collapsed_sections": [],
      "authorship_tag": "ABX9TyPbMo4TBP0sycrTW2zY58U4",
      "include_colab_link": true
    },
    "kernelspec": {
      "name": "python3",
      "display_name": "Python 3"
    }
  },
  "cells": [
    {
      "cell_type": "markdown",
      "metadata": {
        "id": "view-in-github",
        "colab_type": "text"
      },
      "source": [
        "<a href=\"https://colab.research.google.com/github/JoTaijiquan/Python/blob/master/Python101.ipynb\" target=\"_parent\"><img src=\"https://colab.research.google.com/assets/colab-badge.svg\" alt=\"Open In Colab\"/></a>"
      ]
    },
    {
      "cell_type": "markdown",
      "metadata": {
        "id": "HoYK_k68hb5p",
        "colab_type": "text"
      },
      "source": [
        "## **Python 101**"
      ]
    },
    {
      "cell_type": "code",
      "metadata": {
        "id": "PvPCpyhGmncg",
        "colab_type": "code",
        "outputId": "c89971fb-7239-4a84-b4b4-3f6a1ff4fe5d",
        "colab": {
          "base_uri": "https://localhost:8080/",
          "height": 34
        }
      },
      "source": [
        "#Example 1-1-1\n",
        "\n",
        "print (\"hello, world!\")"
      ],
      "execution_count": 3,
      "outputs": [
        {
          "output_type": "stream",
          "text": [
            "hello, world!\n"
          ],
          "name": "stdout"
        }
      ]
    },
    {
      "cell_type": "code",
      "metadata": {
        "id": "7mlNEI2Yf7o-",
        "colab_type": "code",
        "colab": {
          "base_uri": "https://localhost:8080/",
          "height": 34
        },
        "outputId": "40d1317c-e6f6-4016-bb24-e4ab04c08ca2"
      },
      "source": [
        "#Example 1-1-2\n",
        "\n",
        "print (\"สวัสดีชาวโลก\")"
      ],
      "execution_count": 5,
      "outputs": [
        {
          "output_type": "stream",
          "text": [
            "สวัสดีชาวโลก\n"
          ],
          "name": "stdout"
        }
      ]
    },
    {
      "cell_type": "code",
      "metadata": {
        "id": "fR-eel6ygylv",
        "colab_type": "code",
        "colab": {
          "base_uri": "https://localhost:8080/",
          "height": 34
        },
        "outputId": "d8a9908e-c106-4955-9944-9dfd2f5557e9"
      },
      "source": [
        "#Example 1-1-3\n",
        "\n",
        "def MyFirstFunction():\n",
        "    print (\"มาเขียนโปรแกรมภาษา Python อย่างสนุกสนานกันเถอะ\")\n",
        "\n",
        "if __name__ == \"__main__\":\n",
        "    MyFirstFunction()\n"
      ],
      "execution_count": 6,
      "outputs": [
        {
          "output_type": "stream",
          "text": [
            "มาเขียนโปรแกรมภาษา Python อย่างสนุกสนานกันเถอะ\n"
          ],
          "name": "stdout"
        }
      ]
    },
    {
      "cell_type": "code",
      "metadata": {
        "id": "T0lyVg5_hs59",
        "colab_type": "code",
        "colab": {
          "base_uri": "https://localhost:8080/",
          "height": 102
        },
        "outputId": "1ac5a460-a3ff-4558-8214-06f841282a90"
      },
      "source": [
        "#Example 1-1-4\n",
        "\n",
        "'บันทึกสนุกๆ'\n",
        "def MySecondFunction():\n",
        "    'เขียนเล่น'\n",
        "    print (\"ขีดๆ\",\"เขียนๆ\",\"เรียนๆ\",\"เล่นๆ\")\n",
        "\n",
        "if __name__ == \"__main__\":\n",
        "    MySecondFunction()\n",
        "    print (\"Program Name is\",__name__)\n",
        "    print (\"Program Document is\",__doc__)\n",
        "    print (\"Function Name is\", MySecondFunction.__name__)\n",
        "    print (\"Function Document is\", MySecondFunction.__doc__)"
      ],
      "execution_count": 7,
      "outputs": [
        {
          "output_type": "stream",
          "text": [
            "ขีดๆ เขียนๆ เรียนๆ เล่นๆ\n",
            "Program Name is __main__\n",
            "Program Document is บันทึกสนุกๆ\n",
            "Function Name is MySecondFunction\n",
            "Function Document is เขียนเล่น\n"
          ],
          "name": "stdout"
        }
      ]
    },
    {
      "cell_type": "code",
      "metadata": {
        "id": "WFokvirli4vt",
        "colab_type": "code",
        "colab": {
          "base_uri": "https://localhost:8080/",
          "height": 136
        },
        "outputId": "26963c72-3ea8-4ba2-d51f-1ea96800fe7f"
      },
      "source": [
        "#Example 1-2-1\n",
        "\n",
        "def func_1_2_1():\n",
        "    'รู้จักกับตัวแปร'\n",
        "\n",
        "    a = 2\n",
        "    b = 3.1416\n",
        "    c = \"ABC\"\n",
        "    d = True\n",
        "    e = False\n",
        "    f = 4+3j\n",
        "    g = None\n",
        "\n",
        "    print (\"a =\",a)\n",
        "    print (\"b =\",b)\n",
        "    print (\"c =\",c)\n",
        "    print (\"d =\",d)\n",
        "    print (\"e =\",e)\n",
        "    print (\"f =\",f)\n",
        "    print (\"g =\",g)\n",
        "    \n",
        "if __name__ == \"__main__\":\n",
        "    func_1_2_1()"
      ],
      "execution_count": 8,
      "outputs": [
        {
          "output_type": "stream",
          "text": [
            "a = 2\n",
            "b = 3.1416\n",
            "c = ABC\n",
            "d = True\n",
            "e = False\n",
            "f = (4+3j)\n",
            "g = None\n"
          ],
          "name": "stdout"
        }
      ]
    },
    {
      "cell_type": "code",
      "metadata": {
        "id": "_B7RZlkRjU3K",
        "colab_type": "code",
        "colab": {
          "base_uri": "https://localhost:8080/",
          "height": 136
        },
        "outputId": "a78aadb1-6507-4ecd-c151-d8dff43f8bcc"
      },
      "source": [
        "#Example 1-2-2\n",
        "\n",
        "def func_1_2_2():\n",
        "    'ชนิดของตัวแปร'\n",
        "    \n",
        "    a = 2\n",
        "    b = 3.1416\n",
        "    c = \"ABC\"\n",
        "    d = True\n",
        "    e = False\n",
        "    f = 4+3j\n",
        "    g = None\n",
        "\n",
        "    print (\"type of a =\",type(a))\n",
        "    print (\"type of b =\",type(b))\n",
        "    print (\"type of c =\",type(c))\n",
        "    print (\"type of d =\",type(d))\n",
        "    print (\"type of e =\",type(e))\n",
        "    print (\"type of f =\",type(f))\n",
        "    print (\"type of g =\",type(g))\n",
        "\n",
        "if __name__ == \"__main__\":\n",
        "    func_1_2_2()"
      ],
      "execution_count": 9,
      "outputs": [
        {
          "output_type": "stream",
          "text": [
            "type of a = <class 'int'>\n",
            "type of b = <class 'float'>\n",
            "type of c = <class 'str'>\n",
            "type of d = <class 'bool'>\n",
            "type of e = <class 'bool'>\n",
            "type of f = <class 'complex'>\n",
            "type of g = <class 'NoneType'>\n"
          ],
          "name": "stdout"
        }
      ]
    },
    {
      "cell_type": "code",
      "metadata": {
        "id": "TTuReS1qjXsy",
        "colab_type": "code",
        "colab": {
          "base_uri": "https://localhost:8080/",
          "height": 187
        },
        "outputId": "d5920864-f9ed-4209-ab8a-80c03227651e"
      },
      "source": [
        "#Example 1-2-3\n",
        "\n",
        "def func_1_2_3():\n",
        "    'การคำนวณทางคณิตศาสตร์'\n",
        "    a = 10\n",
        "    b = 3\n",
        "    c = 0+1j\n",
        "    \n",
        "    print (\"a+b =\",a+b)\n",
        "    print (\"a-b =\",a-b)\n",
        "    print (\"a*b =\",a*b)\n",
        "    print (\"a/b =\",a/b)\n",
        "    print (\"a%b =\",a%b)\n",
        "    print (\"a//b = \",a//b)\n",
        "    print (\"a**b =\",a**b)\n",
        "    print (\"(a+b)*(a-b)/13 =\",(a+b)*(a-b)/13)\n",
        "    print (\"c+c = \",c+c) \n",
        "    print (\"c*c =\",c*c)\n",
        "    \n",
        "if __name__ == \"__main__\":\n",
        "    func_1_2_3()"
      ],
      "execution_count": 10,
      "outputs": [
        {
          "output_type": "stream",
          "text": [
            "a+b = 13\n",
            "a-b = 7\n",
            "a*b = 30\n",
            "a/b = 3.3333333333333335\n",
            "a%b = 1\n",
            "a//b =  3\n",
            "a**b = 1000\n",
            "(a+b)*(a-b)/13 = 7.0\n",
            "c+c =  2j\n",
            "c*c = (-1+0j)\n"
          ],
          "name": "stdout"
        }
      ]
    },
    {
      "cell_type": "code",
      "metadata": {
        "id": "BTdac2wMjjvc",
        "colab_type": "code",
        "colab": {
          "base_uri": "https://localhost:8080/",
          "height": 221
        },
        "outputId": "1212cebc-2439-4b95-d4ab-80d457a06faf"
      },
      "source": [
        "#Example 1-2-4\n",
        "\n",
        "def func_1_2_4():\n",
        "    'การดำเนินการทางตรรกะ True=จริง False=เท็จ'\n",
        "\n",
        "    a=True; b=False\n",
        "    \n",
        "    print (\"True and True =\",a&a)\n",
        "    print (\"True and False =\",a&b)\n",
        "    print (\"False and False =\",b&b)\n",
        "    print (\"True or True =\",a|True)\n",
        "    print (\"True or False =\",a|False)\n",
        "    print (\"False or False =\",b|b)\n",
        "    print (\"Not True =\",not(a))\n",
        "    print (\"a==a is\",a==a)\n",
        "    print (\"9==8 is\",a==b)\n",
        "    print (\"9>8 is\",9>8)\n",
        "    print (\"8>=8 is\",8>=8)\n",
        "    print (\"8!=9 is\",8!=9)\n",
        "    \n",
        "if __name__ == \"__main__\":\n",
        "    func_1_2_4()"
      ],
      "execution_count": 11,
      "outputs": [
        {
          "output_type": "stream",
          "text": [
            "True and True = True\n",
            "True and False = False\n",
            "False and False = False\n",
            "True or True = True\n",
            "True or False = True\n",
            "False or False = False\n",
            "Not True = False\n",
            "a==a is True\n",
            "9==8 is False\n",
            "9>8 is True\n",
            "8>=8 is True\n",
            "8!=9 is True\n"
          ],
          "name": "stdout"
        }
      ]
    },
    {
      "cell_type": "code",
      "metadata": {
        "id": "86n3yzabjpfj",
        "colab_type": "code",
        "colab": {
          "base_uri": "https://localhost:8080/",
          "height": 102
        },
        "outputId": "ffecd546-0fdb-4f24-8032-af42931f1331"
      },
      "source": [
        "#Example 1-2-5\n",
        "\n",
        "def func_1_2_5():\n",
        "    'การทำงานกับตัวแปร'\n",
        "\n",
        "    a,b,c,d = 1,2,\"hello\", \"world\"\n",
        "\n",
        "    print (a,b,c,d)\n",
        "    print (a+b, c+d)\n",
        "    print (a*3, c*3)\n",
        "    a = a+4 \n",
        "    b+=7\n",
        "    print (a,b)\n",
        "    c+=\"!\"; d*=3\n",
        "    print (c,d)\n",
        "    \n",
        "if __name__ == \"__main__\":\n",
        "    func_1_2_5()"
      ],
      "execution_count": 12,
      "outputs": [
        {
          "output_type": "stream",
          "text": [
            "1 2 hello world\n",
            "3 helloworld\n",
            "3 hellohellohello\n",
            "5 9\n",
            "hello! worldworldworld\n"
          ],
          "name": "stdout"
        }
      ]
    }
  ]
}